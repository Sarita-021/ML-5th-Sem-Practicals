{
 "cells": [
  {
   "cell_type": "code",
   "execution_count": 1,
   "id": "fe26a5bf-2f62-4c82-a9a7-ba55325636f6",
   "metadata": {},
   "outputs": [
    {
     "name": "stdout",
     "output_type": "stream",
     "text": [
      "     sky air_temp humidity    wind water forecast enjoy_sport\n",
      "0  sunny     warm   normal  strong  warm     same         yes\n",
      "1  sunny     warm     high  strong  warm     same         yes\n",
      "2  rainy     cold     high  strong  warm   change          no\n",
      "3  sunny     warm     high  strong  cool   change         yes\n"
     ]
    }
   ],
   "source": [
    "import pandas as pd \n",
    "import numpy as np \n",
    "d = pd.read_csv(\"enjoysport.csv\")\n",
    "print(d)"
   ]
  },
  {
   "cell_type": "code",
   "execution_count": 2,
   "id": "43bedeb3-1c4b-4f4c-a324-4c4224d31b54",
   "metadata": {},
   "outputs": [
    {
     "name": "stdout",
     "output_type": "stream",
     "text": [
      "The attributes are :  [['sunny' 'warm' 'normal' 'strong' 'warm' 'same']\n",
      " ['sunny' 'warm' 'high' 'strong' 'warm' 'same']\n",
      " ['rainy' 'cold' 'high' 'strong' 'warm' 'change']\n",
      " ['sunny' 'warm' 'high' 'strong' 'cool' 'change']]\n"
     ]
    }
   ],
   "source": [
    "a = np.array(d)[:,:-1]\n",
    "print(\"The attributes are : \", a)"
   ]
  },
  {
   "cell_type": "code",
   "execution_count": 3,
   "id": "bbd5645d-06e5-4b2e-bc75-1962fc30a35d",
   "metadata": {},
   "outputs": [
    {
     "name": "stdout",
     "output_type": "stream",
     "text": [
      "The target is :  ['yes' 'yes' 'no' 'yes']\n"
     ]
    }
   ],
   "source": [
    "t = np.array(d)[:,-1]\n",
    "print('The target is : ', t)"
   ]
  },
  {
   "cell_type": "code",
   "execution_count": 4,
   "id": "c9076298-9394-4df4-a793-fedae5467755",
   "metadata": {},
   "outputs": [],
   "source": [
    "def train(c, t): \n",
    "    for i, val in enumerate(t): \n",
    "        if val == \"yes\": \n",
    "            specific_hypothesis = c[i].copy() \n",
    "            break\n",
    "    for i, val in enumerate(c): \n",
    "        if t[i] == \"yes\": \n",
    "            for x in range(len(specific_hypothesis)):\n",
    "                if val[x] != specific_hypothesis[x]:\n",
    "                    specific_hypothesis[x] = '?'\n",
    "    return specific_hypothesis"
   ]
  },
  {
   "cell_type": "code",
   "execution_count": 5,
   "id": "19f34a54-e46d-4bf6-8a6a-d64021c0a5cb",
   "metadata": {},
   "outputs": [
    {
     "name": "stdout",
     "output_type": "stream",
     "text": [
      " The final hypothesis is: ['sunny' 'warm' '?' 'strong' '?' '?']\n"
     ]
    }
   ],
   "source": [
    " print(\" The final hypothesis is:\", train(a,t))"
   ]
  },
  {
   "cell_type": "code",
   "execution_count": null,
   "id": "0dd1917d-063b-4dc8-8b72-233cce07c601",
   "metadata": {},
   "outputs": [],
   "source": []
  }
 ],
 "metadata": {
  "kernelspec": {
   "display_name": "Python 3 (ipykernel)",
   "language": "python",
   "name": "python3"
  },
  "language_info": {
   "codemirror_mode": {
    "name": "ipython",
    "version": 3
   },
   "file_extension": ".py",
   "mimetype": "text/x-python",
   "name": "python",
   "nbconvert_exporter": "python",
   "pygments_lexer": "ipython3",
   "version": "3.12.4"
  }
 },
 "nbformat": 4,
 "nbformat_minor": 5
}
