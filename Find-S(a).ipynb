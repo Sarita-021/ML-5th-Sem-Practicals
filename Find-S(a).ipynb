{
 "cells": [
  {
   "cell_type": "code",
   "execution_count": 1,
   "id": "338acdcc-5749-43fd-a828-d3d808c6ebd7",
   "metadata": {},
   "outputs": [],
   "source": [
    "#Initialize the hypothesis with the most specific hypothesis\n",
    "def initialize_hypothesis(attributes): \n",
    "    hypothesis = {}\n",
    "    for attribute in attributes:\n",
    "        hypothesis[attribute] = \"null\" \n",
    "    return hypothesis "
   ]
  },
  {
   "cell_type": "code",
   "execution_count": 2,
   "id": "238f8358-6b70-47ed-8b77-24dd61eeebbc",
   "metadata": {},
   "outputs": [],
   "source": [
    "# Update the hypothesis based on a positive example\n",
    "def update_hypothesis(hypothesis, example):\n",
    "    for attribute, value in example.items():\n",
    "        if hypothesis[attribute] == \"null\":\n",
    "            hypothesis[attribute] = value \n",
    "        elif hypothesis[attribute] != value:\n",
    "            hypothesis [attribute]=\"?\"\n",
    "    return hypothesis "
   ]
  },
  {
   "cell_type": "code",
   "execution_count": 3,
   "id": "6d0078ef-8873-4820-82b9-b539cf0a5c16",
   "metadata": {},
   "outputs": [],
   "source": [
    "#Find-S algorithm\n",
    "def find_s(training_data):\n",
    "    attributes= list(training_data[0].keys())\n",
    "    hypothesis= initialize_hypothesis(attributes)\n",
    "    for example in training_data:\n",
    "        if example['target'] == 'cat': \n",
    "            hypothesis = update_hypothesis(hypothesis, example) \n",
    "    return hypothesis"
   ]
  },
  {
   "cell_type": "code",
   "execution_count": 4,
   "id": "d8a3d159-72d6-4749-b48b-98d833ab3848",
   "metadata": {},
   "outputs": [],
   "source": [
    "#Example training data\n",
    "training_data = [ \n",
    "     {'color': 'brown', 'size': 'small', 'tail': 'long', 'target': 'cat'},\n",
    "     {'color': 'gray', 'size': 'medium', 'tail': 'short', 'target': 'cat'},\n",
    "     {'color': 'black', 'size': 'large', 'tail': 'long', 'target': 'not_cat'},\n",
    "     {'color': 'white', 'size': 'small', 'tail': 'short', 'target': 'not_cat'}\n",
    "]"
   ]
  },
  {
   "cell_type": "code",
   "execution_count": 5,
   "id": "859df7fc-b421-4b07-afae-c8300df200f4",
   "metadata": {},
   "outputs": [
    {
     "name": "stdout",
     "output_type": "stream",
     "text": [
      "Learned Hypothesis: {'color': '?', 'size': '?', 'tail': '?', 'target': 'cat'}\n"
     ]
    }
   ],
   "source": [
    "#Apply Find-S algorithm\n",
    "learned_hypothesis = find_s(training_data) \n",
    "print(\"Learned Hypothesis:\", learned_hypothesis)"
   ]
  },
  {
   "cell_type": "code",
   "execution_count": null,
   "id": "99d60d07-3cb9-4dd7-819b-d9c07cee0adf",
   "metadata": {},
   "outputs": [],
   "source": []
  }
 ],
 "metadata": {
  "kernelspec": {
   "display_name": "Python 3 (ipykernel)",
   "language": "python",
   "name": "python3"
  },
  "language_info": {
   "codemirror_mode": {
    "name": "ipython",
    "version": 3
   },
   "file_extension": ".py",
   "mimetype": "text/x-python",
   "name": "python",
   "nbconvert_exporter": "python",
   "pygments_lexer": "ipython3",
   "version": "3.12.4"
  }
 },
 "nbformat": 4,
 "nbformat_minor": 5
}
