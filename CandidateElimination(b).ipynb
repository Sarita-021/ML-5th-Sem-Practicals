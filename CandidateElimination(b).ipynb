{
 "cells": [
  {
   "cell_type": "code",
   "execution_count": 1,
   "id": "289a07c3-d8fe-42d7-9750-9f828e45219b",
   "metadata": {},
   "outputs": [
    {
     "name": "stdout",
     "output_type": "stream",
     "text": [
      "\n",
      " Instances are:\n",
      " [['sunny' 'warm' 'normal' 'strong' 'warm' 'same']\n",
      " ['sunny' 'warm' 'high' 'strong' 'warm' 'same']\n",
      " ['rainy' 'cold' 'high' 'strong' 'warm' 'change']\n",
      " ['sunny' 'warm' 'high' 'strong' 'cool' 'change']]\n",
      "\n",
      " Target Values are:  ['yes' 'yes' 'no' 'yes']\n"
     ]
    }
   ],
   "source": [
    "import numpy as np \n",
    "import pandas as pd\n",
    "data = pd.read_csv('enjoysport.csv') \n",
    "concepts = np.array(data.iloc[:,0:-1]) \n",
    "print(\"\\n Instances are:\\n\", concepts)\n",
    "target = np.array(data.iloc[:,-1]) \n",
    "print(\"\\n Target Values are: \",target)"
   ]
  },
  {
   "cell_type": "code",
   "execution_count": 2,
   "id": "a8f6513b-def4-440c-abff-d74b3c8ce350",
   "metadata": {},
   "outputs": [
    {
     "data": {
      "text/plain": [
       "(array(['sunny', 'warm', '?', 'strong', '?', '?'], dtype=object),\n",
       " [['sunny', '?', '?', '?', '?', '?'], ['?', 'warm', '?', '?', '?', '?']])"
      ]
     },
     "execution_count": 2,
     "metadata": {},
     "output_type": "execute_result"
    }
   ],
   "source": [
    "def candidate_elimination(concepts, target):\n",
    "    S = concepts[0].copy()\n",
    "    G = [[\"?\" for _ in range(len(S))]] \n",
    " \n",
    "    for i,h in enumerate(concepts):\n",
    "        if target[i] == \"yes\":\n",
    "            for x in range(len(S)):\n",
    "                if h[x] != S[x]:\n",
    "                    S[x] = \"?\"\n",
    "            G = [g for g in G if all(g[x] == \"?\" or g[x] == h[x] for x in range(len(g)))]\n",
    "                    \n",
    "        elif target[i] == \"no\":\n",
    "            G_prev = G.copy()\n",
    "            for g in G_prev:\n",
    "                for x in range(len(g)):\n",
    "                    if g[x] == \"?\":\n",
    "                        for val in set(concepts[:, x]):\n",
    "                            if val != h[x]:\n",
    "                                new_g = g.copy()\n",
    "                                new_g[x] = val\n",
    "                                if any(new_g[j] != S[j] and S[j] != \"?\" for j in range(len(S))):\n",
    "                                    G.append(new_g)\n",
    "                G.remove(g)\n",
    "            G = [g for g in G if any(all(g[x] == \"?\" or g[x] == S[x] for x in range(len(g))) for S in [S])]\n",
    "\n",
    "    return S, G\n",
    "# Run the Candidate-Elimination algorithm \n",
    "S_final, G_final = candidate_elimination(concepts, target)\n",
    "S_final, G_final"
   ]
  },
  {
   "cell_type": "code",
   "execution_count": null,
   "id": "441d203d-ae71-48db-baf9-47be28cbc706",
   "metadata": {},
   "outputs": [],
   "source": []
  }
 ],
 "metadata": {
  "kernelspec": {
   "display_name": "Python 3 (ipykernel)",
   "language": "python",
   "name": "python3"
  },
  "language_info": {
   "codemirror_mode": {
    "name": "ipython",
    "version": 3
   },
   "file_extension": ".py",
   "mimetype": "text/x-python",
   "name": "python",
   "nbconvert_exporter": "python",
   "pygments_lexer": "ipython3",
   "version": "3.12.4"
  }
 },
 "nbformat": 4,
 "nbformat_minor": 5
}
